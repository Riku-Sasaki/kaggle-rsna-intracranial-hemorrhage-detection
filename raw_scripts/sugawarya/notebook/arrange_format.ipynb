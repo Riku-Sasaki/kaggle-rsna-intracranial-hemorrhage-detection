{
 "cells": [
  {
   "cell_type": "code",
   "execution_count": null,
   "metadata": {},
   "outputs": [],
   "source": [
    "# load\n",
    "import pandas as pd\n",
    "import numpy as np\n",
    "import pickle\n",
    "from sklearn.metrics import log_loss\n",
    "from tqdm import tqdm\n",
    "import lightgbm as lgb\n",
    "from sklearn.model_selection import KFold\n",
    "import re\n",
    "tqdm.pandas(desc=\"my bar!\")\n",
    "\n",
    "pd.set_option('max_columns', 100)\n",
    "pd.set_option('max_rows', 100)\n",
    "def wlogloss(targets, preds):\n",
    "    target_cols = ['any', 'epidural', 'subdural', 'subarachnoid', 'intraventricular', 'intraparenchymal']\n",
    "    res = 0\n",
    "    for col in target_cols:\n",
    "        res += log_loss(targets[col], preds[col+'_pred'])\n",
    "        if col == 'any':\n",
    "            res += log_loss(targets[col], preds[col+'_pred'])\n",
    "    res /= 7\n",
    "    return res\n",
    "target_cols = ['any', 'epidural', 'subdural', 'subarachnoid', 'intraventricular', 'intraparenchymal']\n"
   ]
  },
  {
   "cell_type": "code",
   "execution_count": null,
   "metadata": {},
   "outputs": [],
   "source": [
    "for n_fold in range(5):\n",
    "    df_true = pd.read_pickle(f'../prediction/appian/fold{n_fold}_ep2_test_tta5.pkl')\n",
    "    df = pd.read_pickle(f'../prediction/shimakoshi_seresnext101_adj_pred/seresnext101_adj_prediction_fold{n_fold}_result_test_class_pred.pkl')[['ID', 'pred_score0', 'pred_score1', 'pred_score2', 'pred_score3', 'pred_score4', 'pred_score5']]\n",
    "    ids_list = df_true[0][\"ids\"]\n",
    "    df = df.query(f'ID in {ids_list}').sort_values('ID')\n",
    "    for i in range(5):\n",
    "        tmp_true = df_true[i]\n",
    "        tmp_true['outputs'] = df[['pred_score0', 'pred_score1', 'pred_score2', 'pred_score3', 'pred_score4', 'pred_score5']].values\n",
    "        df_true[i] = tmp_true\n",
    "    with open(f'../prediction/shimakoshi_seresnext101_adj_pred/fold{n_fold}_ep2_test_tta5.pkl', 'wb') as f:\n",
    "        pickle.dump(df_true, f)"
   ]
  },
  {
   "cell_type": "code",
   "execution_count": null,
   "metadata": {},
   "outputs": [],
   "source": [
    "for n_fold in range(5):\n",
    "    df_true = pd.read_pickle(f'../prediction/appian/fold{n_fold}_ep2_test_tta5.pkl')\n",
    "    df = pd.read_pickle(f'../prediction/shimakoshi_seresnext50_label_smooth/seresnext50_label_smoothing_fold{n_fold}_result_test_class_pred.pkl')[['ID', 'pred_score0', 'pred_score1', 'pred_score2', 'pred_score3', 'pred_score4', 'pred_score5']]\n",
    "    ids_list = df_true[0][\"ids\"]\n",
    "    df = df.query(f'ID in {ids_list}').sort_values('ID')\n",
    "    for i in range(5):\n",
    "        tmp_true = df_true[i]\n",
    "        tmp_true['outputs'] = df[['pred_score0', 'pred_score1', 'pred_score2', 'pred_score3', 'pred_score4', 'pred_score5']].values\n",
    "        df_true[i] = tmp_true\n",
    "    with open(f'../prediction/shimakoshi_seresnext50_label_smooth/fold{n_fold}_ep2_test_tta5.pkl', 'wb') as f:\n",
    "        pickle.dump(df_true, f)"
   ]
  },
  {
   "cell_type": "code",
   "execution_count": null,
   "metadata": {},
   "outputs": [],
   "source": [
    "for n_fold in range(5):\n",
    "    df_true = pd.read_pickle(f'../prediction/appian/fold{n_fold}_ep2_test_tta5.pkl')\n",
    "    df = pd.read_pickle(f'../prediction/shimakoshi_seresnext50_without_any/seresnext50_without_any_prediction_fold{n_fold}_result_test_class_pred.pkl')[['ID', 'pred_score0', 'pred_score1', 'pred_score2', 'pred_score3', 'pred_score4', 'pred_score5']]\n",
    "    ids_list = df_true[0][\"ids\"]\n",
    "    df = df.query(f'ID in {ids_list}').sort_values('ID')\n",
    "    for i in range(5):\n",
    "        tmp_true = df_true[i]\n",
    "        tmp_true['outputs'] = df[['pred_score0', 'pred_score1', 'pred_score2', 'pred_score3', 'pred_score4', 'pred_score5']].values\n",
    "        df_true[i] = tmp_true\n",
    "    with open(f'../prediction/shimakoshi_seresnext50_without_any/fold{n_fold}_ep2_test_tta5.pkl', 'wb') as f:\n",
    "        pickle.dump(df_true, f)"
   ]
  },
  {
   "cell_type": "code",
   "execution_count": null,
   "metadata": {},
   "outputs": [],
   "source": []
  },
  {
   "cell_type": "code",
   "execution_count": null,
   "metadata": {},
   "outputs": [],
   "source": [
    "for n_fold in range(5):\n",
    "    df_true = pd.read_pickle(f'../prediction/appian/fold{n_fold}_ep2_valid_tta5.pkl')\n",
    "    df = pd.read_csv(f'../prediction/shimakoshi_seresnext101_adj_pred/seresnext101_adj_prediction_fold{n_fold}_result_valid_class_pred.csv')[['ID', 'pred_score0', 'pred_score1', 'pred_score2', 'pred_score3', 'pred_score4', 'pred_score5']]\n",
    "    ids_list = df_true[0][\"ids\"]\n",
    "    df = df.query(f'ID in {ids_list}').sort_values('ID')\n",
    "    for i in range(5):\n",
    "        tmp_true = df_true[i]\n",
    "        tmp_true['outputs'] = df[['pred_score0', 'pred_score1', 'pred_score2', 'pred_score3', 'pred_score4', 'pred_score5']].values\n",
    "        df_true[i] = tmp_true\n",
    "    with open(f'../prediction/shimakoshi_seresnext101_adj_pred/fold{n_fold}_ep2_valid_tta5.pkl', 'wb') as f:\n",
    "        pickle.dump(df_true, f)"
   ]
  },
  {
   "cell_type": "code",
   "execution_count": null,
   "metadata": {},
   "outputs": [],
   "source": [
    "for n_fold in range(5):\n",
    "    df_true = pd.read_pickle(f'../prediction/appian/fold{n_fold}_ep2_valid_tta5.pkl')\n",
    "    df = pd.read_csv(f'../prediction/shimakoshi_seresnext50_label_smooth/seresnext50_label_smoothing_fold{n_fold}_result_valid_class_pred.csv')[['ID', 'pred_score0', 'pred_score1', 'pred_score2', 'pred_score3', 'pred_score4', 'pred_score5']]\n",
    "    ids_list = df_true[0][\"ids\"]\n",
    "    df = df.query(f'ID in {ids_list}').sort_values('ID')\n",
    "    for i in range(5):\n",
    "        tmp_true = df_true[i]\n",
    "        tmp_true['outputs'] = df[['pred_score0', 'pred_score1', 'pred_score2', 'pred_score3', 'pred_score4', 'pred_score5']].values\n",
    "        df_true[i] = tmp_true\n",
    "    with open(f'../prediction/shimakoshi_seresnext50_label_smooth/fold{n_fold}_ep2_valid_tta5.pkl', 'wb') as f:\n",
    "        pickle.dump(df_true, f)"
   ]
  },
  {
   "cell_type": "code",
   "execution_count": null,
   "metadata": {},
   "outputs": [],
   "source": [
    "for n_fold in range(5):\n",
    "    df_true = pd.read_pickle(f'../prediction/appian/fold{n_fold}_ep2_valid_tta5.pkl')\n",
    "    df = pd.read_csv(f'../prediction/shimakoshi_seresnext50_without_any/seresnext50_without_any_prediction_fold{n_fold}_result_valid_class_pred.csv')[['ID', 'pred_score0', 'pred_score1', 'pred_score2', 'pred_score3', 'pred_score4', 'pred_score5']]\n",
    "    ids_list = df_true[0][\"ids\"]\n",
    "    df = df.query(f'ID in {ids_list}').sort_values('ID')\n",
    "    for i in range(5):\n",
    "        tmp_true = df_true[i]\n",
    "        tmp_true['outputs'] = df[['pred_score0', 'pred_score1', 'pred_score2', 'pred_score3', 'pred_score4', 'pred_score5']].values\n",
    "        df_true[i] = tmp_true\n",
    "    with open(f'../prediction/shimakoshi_seresnext50_without_any/fold{n_fold}_ep2_valid_tta5.pkl', 'wb') as f:\n",
    "        pickle.dump(df_true, f)"
   ]
  },
  {
   "cell_type": "code",
   "execution_count": null,
   "metadata": {},
   "outputs": [],
   "source": []
  }
 ],
 "metadata": {
  "kernelspec": {
   "display_name": "Python 3",
   "language": "python",
   "name": "python3"
  },
  "language_info": {
   "codemirror_mode": {
    "name": "ipython",
    "version": 3
   },
   "file_extension": ".py",
   "mimetype": "text/x-python",
   "name": "python",
   "nbconvert_exporter": "python",
   "pygments_lexer": "ipython3",
   "version": "3.7.4"
  }
 },
 "nbformat": 4,
 "nbformat_minor": 2
}
